## Installing necessary libraries
import numpy as np
import pandas as pd
import matplotlib.pyplot as plt
import seaborn as sb
df = pd.read_csv("all_recs.csv", encoding= 'unicode_escape')
df.head()
df.info()
df.tail()
year_order = df['Year'].value_counts().index
location_order = df['Location'].value_counts().index
motive_order = df['Motive'].value_counts().index
industry_order = df['Industry'].value_counts().index
## Summary of dataset
df.describe()
df.info()
base_color = sb.color_palette()[2]
year_order = df['Year'].value_counts().index
location_order = df['Location'].value_counts().index
motive_order = df['Motive'].value_counts().index
industry_order = df['Industry'].value_counts().index
### Attack Frequency by year
plt.figure(figsize=(20,8))
plt.title("Attack Frequency by year")
sb.countplot(data=df,y='Year',color=base_color,order=year_order)
plt.xticks(rotation=45);
### Attack by Industry
plt.figure(figsize=(10,6))
plt.title("Attack by Industry")
sb.countplot(data=df,y='Industry',color=base_color,order=industry_order)
plt.xticks(rotation=15);
### Attack Frequency by Motive
plt.figure(figsize=(10,6))
plt.title("Attack Frequency by Motive")
sb.countplot(data=df,y='Motive',color=base_color,order=motive_order)
plt.xticks(rotation=15);
### Victim Location
plt.figure(figsize=(10,30))
plt.title("Victim Location")
sb.countplot(data=df,y='Location',color=base_color,order=location_order)
plt.xticks(rotation=15);
attacker_order = df['Actor'].value_counts().index
attacker_location = df['Actor Location'].value_counts().index
### Attacker Location
plt.figure(figsize=(10,20))
plt.title("Attacker Location")
sb.countplot(data=df,y='Actor Location',color=base_color,order=attacker_location)
plt.xticks(rotation=15);
### Attack tools and Techniques
plt.figure(figsize=(10,50))
plt.title("Attack tools")
sb.countplot(data=df,y='Actor',color=base_color,order=attacker_order)
plt.xticks(rotation=15);
